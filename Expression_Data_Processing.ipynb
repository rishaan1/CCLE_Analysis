{
 "cells": [
  {
   "cell_type": "code",
   "execution_count": 9,
   "id": "c7e5a932-4bb1-48a4-9e9a-a463d41d7924",
   "metadata": {},
   "outputs": [],
   "source": [
    "import pandas as pd\n",
    "expression_data = pd.read_csv(\"expression_data.csv\")\n",
    "expression_data\n",
    "expression_data = expression_data.drop('Unnamed: 0', axis=1)\n",
    "expression_data.insert(loc = 1,\n",
    "          column = 'Description',\n",
    "          value = \"NA\")\n",
    "expression_data.to_csv(\"expression_data.csv\", index = True)"
   ]
  }
 ],
 "metadata": {
  "kernelspec": {
   "display_name": "Python 3 (ipykernel)",
   "language": "python",
   "name": "python3"
  },
  "language_info": {
   "codemirror_mode": {
    "name": "ipython",
    "version": 3
   },
   "file_extension": ".py",
   "mimetype": "text/x-python",
   "name": "python",
   "nbconvert_exporter": "python",
   "pygments_lexer": "ipython3",
   "version": "3.11.8"
  }
 },
 "nbformat": 4,
 "nbformat_minor": 5
}
